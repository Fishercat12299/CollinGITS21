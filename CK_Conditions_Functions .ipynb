{
 "cells": [
  {
   "cell_type": "markdown",
   "metadata": {},
   "source": [
    "# If Statements / While Statements"
   ]
  },
  {
   "cell_type": "code",
   "execution_count": 1,
   "metadata": {},
   "outputs": [],
   "source": [
    "snowfall=[81.2, 61.9, 61.4, 43.8, 64.1, 40.5, 33.8]"
   ]
  },
  {
   "cell_type": "code",
   "execution_count": 2,
   "metadata": {},
   "outputs": [
    {
     "name": "stdout",
     "output_type": "stream",
     "text": [
      "81.2\n",
      "143.1\n",
      "204.5\n",
      "248.3\n",
      "312.4\n",
      "352.9\n",
      "386.7\n",
      "386.7\n",
      "55.24285714285714\n"
     ]
    }
   ],
   "source": [
    "x=0\n",
    "for i in snowfall:\n",
    "    x=x+i\n",
    "    print(x)\n",
    "print(x)\n",
    "len(snowfall)\n",
    "avg = x/len(snowfall)\n",
    "print(avg)"
   ]
  },
  {
   "cell_type": "code",
   "execution_count": 3,
   "metadata": {},
   "outputs": [],
   "source": [
    "lowsnow=[]\n",
    "condition = True \n",
    "snowfall=[81.2, 61.9, 61.4, 43.8, 64.1, 40.5, 33.8]\n",
    "while condition:\n",
    "    for i in snowfall:\n",
    "        condition=False\n",
    "        if i <=45:\n",
    "            lowsnow.append(i)\n",
    "        else:\n",
    "            condition=False \n",
    "    break "
   ]
  },
  {
   "cell_type": "code",
   "execution_count": 4,
   "metadata": {},
   "outputs": [
    {
     "name": "stdout",
     "output_type": "stream",
     "text": [
      "43.8\n",
      "84.3\n",
      "118.1\n",
      "118.1\n",
      "39.36666666666667\n",
      "[43.8, 40.5, 33.8]\n"
     ]
    }
   ],
   "source": [
    "lowsnow\n",
    "x=0\n",
    "for i in lowsnow:\n",
    "    x=x+i\n",
    "    print(x)\n",
    "print(x)\n",
    "len(lowsnow)\n",
    "avg = x/len(lowsnow)\n",
    "print(avg)\n",
    "print(lowsnow)"
   ]
  },
  {
   "cell_type": "code",
   "execution_count": 5,
   "metadata": {},
   "outputs": [
    {
     "name": "stdout",
     "output_type": "stream",
     "text": [
      "Enter the snowfall amount for your city: 21\n",
      "Your city does not receive much snowfall\n"
     ]
    }
   ],
   "source": [
    "citysnow = float(input('Enter the snowfall amount for your city: '))\n",
    "if citysnow > 65: \n",
    "    print('Your city is excessive for snowfall')\n",
    "elif citysnow <=65 and citysnow >40:\n",
    "    print('Your city receives moderate snowfall')\n",
    "else:\n",
    "    print('Your city does not receive much snowfall')"
   ]
  },
  {
   "cell_type": "markdown",
   "metadata": {},
   "source": [
    "# Functions"
   ]
  },
  {
   "cell_type": "code",
   "execution_count": 6,
   "metadata": {},
   "outputs": [],
   "source": [
    "def greeting(firstname):\n",
    "    print(f'Hi {firstname}! It is nice to meet you.')"
   ]
  },
  {
   "cell_type": "code",
   "execution_count": 7,
   "metadata": {},
   "outputs": [
    {
     "name": "stdout",
     "output_type": "stream",
     "text": [
      "Hi Collin! It is nice to meet you.\n"
     ]
    }
   ],
   "source": [
    "greeting('Collin')"
   ]
  },
  {
   "cell_type": "code",
   "execution_count": 8,
   "metadata": {},
   "outputs": [],
   "source": [
    "def greeting():\n",
    "    firstname=input ('enter your first name: ')\n",
    "    print(f'Hi {firstname}! It is nice to meet you.')"
   ]
  },
  {
   "cell_type": "code",
   "execution_count": 9,
   "metadata": {},
   "outputs": [
    {
     "name": "stdout",
     "output_type": "stream",
     "text": [
      "enter your first name: Collin\n",
      "Hi Collin! It is nice to meet you.\n"
     ]
    }
   ],
   "source": [
    "greeting()"
   ]
  },
  {
   "cell_type": "code",
   "execution_count": 10,
   "metadata": {},
   "outputs": [],
   "source": [
    "def dd(direction, degrees, minutes, seconds):\n",
    "    return direction * (degrees + (minutes + seconds/60)/60)"
   ]
  },
  {
   "cell_type": "code",
   "execution_count": 11,
   "metadata": {},
   "outputs": [
    {
     "data": {
      "text/plain": [
       "2.0999944444444445"
      ]
     },
     "execution_count": 11,
     "metadata": {},
     "output_type": "execute_result"
    }
   ],
   "source": [
    "dd(1,2,5,59.98)"
   ]
  },
  {
   "cell_type": "code",
   "execution_count": 12,
   "metadata": {},
   "outputs": [
    {
     "name": "stdout",
     "output_type": "stream",
     "text": [
      "The distance between FSU and Versailles is 3445.84 miles.\n"
     ]
    }
   ],
   "source": [
    "import math \n",
    "radius = 6371 \n",
    "lat1 = 42.297858 * (math.pi/180)\n",
    "lon1 = -71.43626 * (math.pi/180)\n",
    "lat2 = 48.810291666666664 * (math.pi/180)\n",
    "lon2 = 2.0999944444444445 * (math.pi/180)\n",
    "latd= lat1-lat2\n",
    "lond= lon1-lon2\n",
    "\n",
    "a = math.sin(latd/2)**2 + math.cos(lat1) * math.cos(lat2) * math.sin(lond/2)**2\n",
    "c = 2 * math.atan2(math.sqrt(a), math.sqrt(1-a))\n",
    "d = round(radius * c * .621371,2)\n",
    "print(f'The distance between FSU and Versailles is {d} miles.')\n"
   ]
  },
  {
   "cell_type": "code",
   "execution_count": 13,
   "metadata": {},
   "outputs": [],
   "source": [
    "def distance():\n",
    "    input (lat1)"
   ]
  },
  {
   "cell_type": "code",
   "execution_count": 14,
   "metadata": {},
   "outputs": [
    {
     "ename": "NameError",
     "evalue": "name 'firstname' is not defined",
     "output_type": "error",
     "traceback": [
      "\u001b[1;31m---------------------------------------------------------------------------\u001b[0m",
      "\u001b[1;31mNameError\u001b[0m                                 Traceback (most recent call last)",
      "\u001b[1;32m<ipython-input-14-028284c7152e>\u001b[0m in \u001b[0;36m<module>\u001b[1;34m\u001b[0m\n\u001b[1;32m----> 1\u001b[1;33m \u001b[0mtype\u001b[0m\u001b[1;33m(\u001b[0m\u001b[0mfirstname\u001b[0m\u001b[1;33m)\u001b[0m\u001b[1;33m\u001b[0m\u001b[1;33m\u001b[0m\u001b[0m\n\u001b[0m",
      "\u001b[1;31mNameError\u001b[0m: name 'firstname' is not defined"
     ]
    }
   ],
   "source": []
  },
  {
   "cell_type": "code",
   "execution_count": null,
   "metadata": {},
   "outputs": [],
   "source": []
  }
 ],
 "metadata": {
  "kernelspec": {
   "display_name": "Python 3",
   "language": "python",
   "name": "python3"
  },
  "language_info": {
   "codemirror_mode": {
    "name": "ipython",
    "version": 3
   },
   "file_extension": ".py",
   "mimetype": "text/x-python",
   "name": "python",
   "nbconvert_exporter": "python",
   "pygments_lexer": "ipython3",
   "version": "3.8.5"
  }
 },
 "nbformat": 4,
 "nbformat_minor": 4
}
