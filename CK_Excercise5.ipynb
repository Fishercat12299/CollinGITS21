{
 "cells": [
  {
   "cell_type": "code",
   "execution_count": 1,
   "metadata": {},
   "outputs": [],
   "source": [
    "#Ship Island: 44.234247, -68.440909\n",
    "#Monte Vista NWR:  37.479197, -106.135945\n",
    "#Nomans Land NWR:  41.257550, -70.814967\n",
    "import math"
   ]
  },
  {
   "cell_type": "code",
   "execution_count": 2,
   "metadata": {},
   "outputs": [],
   "source": [
    "def distance():\n",
    "    lat1 = float(input('Lattitude for origin: ')) * (math.pi/180)\n",
    "    lon1 = float(input('Longitude for origin: ')) * (math.pi/180)\n",
    "    lat2 = float(input('Latitude for destination: ')) * (math.pi/180)\n",
    "    lon2 = float(input('Longitude for destination: ')) * (math.pi/180)\n",
    "    latd = lat1 - lat2\n",
    "    lond = lon1 - lon2\n",
    "    radius = 6371\n",
    "    a = math.sin(latd/2)**2 + math.cos(lat1) * math.cos(lat2) * math.sin(lond/2)**2\n",
    "    c = 2 * math.atan2(math.sqrt(a), math.sqrt(1-a))\n",
    "    d = round(radius * c * .621371,2)\n",
    "    print(f'The distance from the origin to the destination is {d} miles.')\n"
   ]
  },
  {
   "cell_type": "code",
   "execution_count": 3,
   "metadata": {},
   "outputs": [
    {
     "name": "stdout",
     "output_type": "stream",
     "text": [
      "Lattitude for origin: 41.257550\n",
      "Longitude for origin: -70.814967\n",
      "Latitude for destination: 44.234247\n",
      "Longitude for destination: -68.440909\n",
      "The distance from the origin to the destination is 238.32 miles.\n"
     ]
    }
   ],
   "source": [
    "distance()"
   ]
  },
  {
   "cell_type": "code",
   "execution_count": null,
   "metadata": {},
   "outputs": [],
   "source": []
  }
 ],
 "metadata": {
  "kernelspec": {
   "display_name": "Python 3",
   "language": "python",
   "name": "python3"
  },
  "language_info": {
   "codemirror_mode": {
    "name": "ipython",
    "version": 3
   },
   "file_extension": ".py",
   "mimetype": "text/x-python",
   "name": "python",
   "nbconvert_exporter": "python",
   "pygments_lexer": "ipython3",
   "version": "3.8.5"
  }
 },
 "nbformat": 4,
 "nbformat_minor": 4
}
