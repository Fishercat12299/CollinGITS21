{
 "cells": [
  {
   "cell_type": "markdown",
   "metadata": {},
   "source": [
    "# If Statements / While Statements"
   ]
  },
  {
   "cell_type": "code",
   "execution_count": 1,
   "metadata": {},
   "outputs": [],
   "source": [
    "snowfall=[81.2, 61.9, 61.4, 43.8, 64.1, 40.5, 33.8]"
   ]
  },
  {
   "cell_type": "code",
   "execution_count": 18,
   "metadata": {},
   "outputs": [
    {
     "name": "stdout",
     "output_type": "stream",
     "text": [
      "81.2\n",
      "143.1\n",
      "204.5\n",
      "248.3\n",
      "312.4\n",
      "352.9\n",
      "386.7\n",
      "386.7\n",
      "55.24285714285714\n"
     ]
    }
   ],
   "source": [
    "x=0\n",
    "for i in snowfall:\n",
    "    x=x+i\n",
    "    print(x)\n",
    "print(x)\n",
    "len(snowfall)\n",
    "avg = x/len(snowfall)\n",
    "print(avg)"
   ]
  },
  {
   "cell_type": "code",
   "execution_count": 36,
   "metadata": {},
   "outputs": [],
   "source": [
    "lowsnow=[]\n",
    "condition = True \n",
    "snowfall=[81.2, 61.9, 61.4, 43.8, 64.1, 40.5, 33.8]\n",
    "while condition:\n",
    "    for i in snowfall:\n",
    "        condition=False\n",
    "        if i <=45:\n",
    "            lowsnow.append(i)\n",
    "        else:\n",
    "            condition=False \n",
    "    break "
   ]
  },
  {
   "cell_type": "code",
   "execution_count": 38,
   "metadata": {},
   "outputs": [
    {
     "name": "stdout",
     "output_type": "stream",
     "text": [
      "43.8\n",
      "84.3\n",
      "118.1\n",
      "118.1\n",
      "39.36666666666667\n",
      "[43.8, 40.5, 33.8]\n"
     ]
    }
   ],
   "source": [
    "lowsnow\n",
    "x=0\n",
    "for i in lowsnow:\n",
    "    x=x+i\n",
    "    print(x)\n",
    "print(x)\n",
    "len(lowsnow)\n",
    "avg = x/len(lowsnow)\n",
    "print(avg)\n",
    "print(lowsnow)"
   ]
  },
  {
   "cell_type": "code",
   "execution_count": 21,
   "metadata": {},
   "outputs": [
    {
     "name": "stdout",
     "output_type": "stream",
     "text": [
      "Enter the snowfall amount for your city: 3\n",
      "Your city does not receive much snowfall\n"
     ]
    }
   ],
   "source": [
    "citysnow = float(input('Enter the snowfall amount for your city: '))\n",
    "if citysnow > 65: \n",
    "    print('Your city is excessive for snowfall')\n",
    "elif citysnow <=65 and citysnow >40:\n",
    "    print('Your city receives moderate snowfall')\n",
    "else:\n",
    "    print('Your city does not receive much snowfall')"
   ]
  },
  {
   "cell_type": "markdown",
   "metadata": {},
   "source": [
    "# Functions"
   ]
  },
  {
   "cell_type": "code",
   "execution_count": 1,
   "metadata": {},
   "outputs": [],
   "source": [
    "def greeting(firstname):\n",
    "    print(f'Hi {firstname}! It is nice to meet you.')"
   ]
  },
  {
   "cell_type": "code",
   "execution_count": 3,
   "metadata": {},
   "outputs": [
    {
     "name": "stdout",
     "output_type": "stream",
     "text": [
      "Hi Collin! It is nice to meet you.\n"
     ]
    }
   ],
   "source": [
    "greeting('Collin')"
   ]
  },
  {
   "cell_type": "code",
   "execution_count": 12,
   "metadata": {},
   "outputs": [],
   "source": [
    "def greeting():\n",
    "    firstname=input ('enter your first name: ')\n",
    "    print(f'Hi {firstname}! It is nice to meet you.')"
   ]
  },
  {
   "cell_type": "code",
   "execution_count": 13,
   "metadata": {},
   "outputs": [
    {
     "name": "stdout",
     "output_type": "stream",
     "text": [
      "enter your first name: Collin\n",
      "Hi Collin! It is nice to meet you.\n"
     ]
    }
   ],
   "source": [
    "greeting()"
   ]
  },
  {
   "cell_type": "code",
   "execution_count": null,
   "metadata": {},
   "outputs": [],
   "source": [
    "def dd()"
   ]
  },
  {
   "cell_type": "code",
   "execution_count": null,
   "metadata": {},
   "outputs": [],
   "source": []
  },
  {
   "cell_type": "code",
   "execution_count": null,
   "metadata": {},
   "outputs": [],
   "source": []
  },
  {
   "cell_type": "code",
   "execution_count": null,
   "metadata": {},
   "outputs": [],
   "source": []
  },
  {
   "cell_type": "code",
   "execution_count": null,
   "metadata": {},
   "outputs": [],
   "source": []
  }
 ],
 "metadata": {
  "kernelspec": {
   "display_name": "Python 3",
   "language": "python",
   "name": "python3"
  },
  "language_info": {
   "codemirror_mode": {
    "name": "ipython",
    "version": 3
   },
   "file_extension": ".py",
   "mimetype": "text/x-python",
   "name": "python",
   "nbconvert_exporter": "python",
   "pygments_lexer": "ipython3",
   "version": "3.8.5"
  }
 },
 "nbformat": 4,
 "nbformat_minor": 4
}
