{
 "cells": [
  {
   "cell_type": "markdown",
   "metadata": {},
   "source": [
    "# Resplendent quetzal\n",
    "[Source: Wikipedia](https://en.wikipedia.org/wiki/Resplendent_quetzal)\n",
    "Disclaimer: All materials are being used for demonstration purposes only\n",
    "\n",
    "The resplendent quetzal ( /ˈkɛtsəl/) (Pharomachrus mocinno) is a bird in the trogon family. It is found from Chiapas, Mexico to western Panama (unlike the other quetzals of the genus Pharomachrus, which are found in South America and eastern Panama). It is well known for its colorful plumage. There are two subspecies, P. m. mocinno and P. m. costaricensis.\n",
    "\n",
    "The resplendent quetzal plays an important role in various types of Mesoamerican mythology. It is the national bird of Guatemala, and its image is found on the country's flag and coat of arms. It also lends its name to the country's currency, the Guatemalan quetzal (abbreviation GTQ)."
   ]
  },
  {
   "cell_type": "markdown",
   "metadata": {},
   "source": [
    "![Respladant quetzal](https://upload.wikimedia.org/wikipedia/commons/thumb/3/3c/Respledent_Quetzal%2C_Costa_Rica_2016.jpg/800px-Respledent_Quetzal%2C_Costa_Rica_2016.jpg)\n",
    "[Citation](https://commons.wikimedia.org/w/index.php?curid=75437227)"
   ]
  },
  {
   "cell_type": "markdown",
   "metadata": {},
   "source": [
    "## Taxonomy \n",
    "\n",
    "**_____**___\n",
    "\n",
    "The resplendent quetzal was first described by Mexican naturalist Pablo de La Llave in 1832. It is one of five species of the genus Pharomachrus known as quetzals. The term \"quetzal\" was originally used for just this species, but is now applied to all members of the genera Pharomachrus and Euptilotis.\n",
    "\n",
    "Two subspecies are recognised, P. m. mocinno and P. m. costaricensis. The epithet mocinno is Llave's Latinization of the name of the biologist J. M. Mociño, a mentor of his. (It is sometimes spelled mocino, but \"ñ\" was formerly spelled \"nn\" in Spanish, so the spelling with \"nn\" is justified and in any case now official.[3][4])\n",
    "\n",
    "The word \"quetzal\" came from Nahuatl (Aztec), where quetzalli (from the root quetza = \"stand\") meant \"tall upstanding plume\" and then \"quetzal tail feather\"; from that Nahuatl quetzaltotōtl means \"quetzal-feather bird\" and thus \"quetzal\".[5]"
   ]
  },
  {
   "cell_type": "markdown",
   "metadata": {},
   "source": [
    "## Distribution and habitat\n",
    "*_____*______\n",
    "\n",
    "Their habitat is montane cloud forest from Southern Mexico to western Panama.\n"
   ]
  },
  {
   "cell_type": "markdown",
   "metadata": {},
   "source": [
    "## Behavior\n",
    "**_____**___\n",
    "\n",
    "Resplendent quetzals are weak fliers. Their known predators include the ornate hawk-eagle, golden eagle, and other hawks and owls as adults, emerald toucanets, brown jays, long-tailed weasels, squirrels, and the kinkajou as nestlings or eggs.[9]\n",
    "\n",
    "### *Feeding* \n",
    "\n",
    "Resplendent quetzals are considered specialized fruit-eaters, although they mix their diet with insects (notably wasps, ants, and larvae), frogs and lizards.[10] Particularly important are wild avocados and other fruit of the laurel family, which the birds swallow whole before regurgitating the pits, which helps to disperse these trees. Quetzals feed more frequently in the midday hours.[11] The adults eat a more fruit-based diet than the chicks, who eat primarily insects and some fruits.[11] Over fifty percent of the fruit they eat come from the family Lauraceae.[12] Quetzals use the methods of \"hovering\" and \"stalling\" in order to selectively pick the fruit near the tips of the branches.[11]\n",
    "\n",
    "![Respledent quetzal](quetzal.jpg)\n",
    "[Citation](https://commons.wikimedia.org/w/index.php?curid=25211044)\n",
    "\n",
    "### *Breeding*\n",
    "\n",
    "Resplendent quetzals create their nests over 200 feet up in the air and court in the air with specific calls.[7] Six specific vocal calls have been recorded: the two-note whistle, gee-gee, wahc-ah-wahc, wec-wec, coouee whistle, uwac, chatter, and buzzing.[7] The first call is related to male territorial behavior, while the coouee whistle is identified as a mating call.[7] Resplendent quetzals usually live alone when not breeding. They are monogamous territorial breeders, with the territory size being measured in Guatemala as 6–10 ha (15–25 acres). They are also seasonal breeders, with the breeding season being March to April in Mexico, May to June in El Salvador and March to May in Guatemala.[13] When breeding, females lay two pale blue eggs in a nest placed in a hole which they carve in a rotten tree. Resplendent quetzals tend to lay two clutches per year and are known to have a high rate of nest failure, around 70 percent.[14] A tree in the required stage of decomposition is susceptible to weather damage, and the availability of suitable trees may limit the resplendent quetzal population.\n",
    "\n",
    "Both parents take turns at incubating, with their long tail-covert feathers folded forwards over the back and out of the hole, where they tend to look like a bunch of fern growing out of the hole. The incubation period lasts about 18 days, during which the male generally incubates the eggs during the day while the female incubates them at night. When the eggs hatch, both parents take care of the young, feeding them fruit, berries, insects, lizards, and small frogs. However, the female often neglects and even abandons the young near the end of the rearing period, leaving it up to the male to continue caring for the offspring until they are ready to survive on their own.\n",
    "\n",
    "During the incubation period, when a parent approaches the nest hole, they land and rotate their head side to side before entering, otherwise known as \"bowing in\".[7] This process ends when the chicks hatch.[7] Young quetzals begin flying after three weeks old but for the males, their long tail feathers take three years to develop.[15]"
   ]
  },
  {
   "cell_type": "markdown",
   "metadata": {},
   "source": [
    "## Status and conservation\n",
    "**_____**___\n",
    "\n",
    "The resplendent quetzal is classified as near threatened on the IUCN Red List due to habitat loss.[1] However, it does occur in several protected areas throughout its range and is a sought-after species for birdwatchers and ecotourists."
   ]
  },
  {
   "cell_type": "markdown",
   "metadata": {},
   "source": [
    "## Relationship with humans\n",
    "**_____**___\n",
    "\n",
    "### *Myth and legend*\n",
    "\n",
    "The resplendent quetzal was considered divine, associated with the \"snake god\", Quetzalcoatl, by Pre-Columbian Mesoamerican civilizations. Its iridescent green tail feathers, symbols for spring plant growth, were venerated by the ancient Aztecs and Maya, who viewed the quetzal as the \"god of the air\" and as a symbol of goodness and light. The Maya also viewed the quetzal symbolizing freedom and wealth, due to their view of quetzals dying in captivity and the value of their feathers, respectively.[16] Mesoamerican rulers and some nobility of other ranks wore headdresses made from quetzal feathers, symbolically connecting them to Quetzalcoatl.[17] Since it was a crime to kill a quetzal, the bird was simply captured, its long tail feathers plucked, and was set free. In several Mesoamerican languages, the term for quetzal can also mean precious, sacred, or erected.\n",
    "\n",
    "Until recently, it was thought that the resplendent quetzal could not be bred or held for any long time in captivity, and indeed it was noted for usually killing itself soon after being captured or caged.[citation needed] For this reason it is a traditional symbol of liberty. However, the Miguel Álvarez del Toro Zoo in Tuxtla Gutiérrez, Chiapas, Mexico has kept this species since 1992, and in 2004 breeding in captivity was announced. A chick hatched and reached the age of six weeks at the time of the report.[18]\n",
    "\n",
    "The bird is of great relevance to Guatemalan culture, being a character in the widely popular legend of the local hero Tecún Umán, a prince and warrior of the Quiché (K'iche') Maya during the latter stages of the Spanish conquest of the region. This quetzal was his nahual (spirit guide). The Quiché repelled several attacks from the Spanish army, even though outmatched in weaponry (guns, armor and cavalry against spears and arrows).\n",
    "\n",
    "Legend has it that on the day the conquistador Pedro de Alvarado fought against Tecún Umán, there was a quetzal flying overhead. On the first strike Tecún Umán, on foot, managed to disable Pedro de Alvarado's horse. Alvarado was then given another horse and on the second strike ran through Tecún Umán's chest with a spear. The quetzal flew down and landed on Tecún Umán, dipping its chest in the warrior prince's blood. It is there that the bird acquired its distinctive red chest feathers.[19]\n",
    "\n",
    "It is debatable whether these events happened, but the Maya fought fiercely for their land and freedom during the conquest. One Mayan legend claims that the quetzal used to sing beautifully before the Spanish conquest, but has been silent ever since; it will sing once again only when the land is truly free."
   ]
  },
  {
   "cell_type": "markdown",
   "metadata": {},
   "source": []
  },
  {
   "cell_type": "code",
   "execution_count": null,
   "metadata": {},
   "outputs": [],
   "source": []
  }
 ],
 "metadata": {
  "kernelspec": {
   "display_name": "Python 3",
   "language": "python",
   "name": "python3"
  },
  "language_info": {
   "codemirror_mode": {
    "name": "ipython",
    "version": 3
   },
   "file_extension": ".py",
   "mimetype": "text/x-python",
   "name": "python",
   "nbconvert_exporter": "python",
   "pygments_lexer": "ipython3",
   "version": "3.8.5"
  }
 },
 "nbformat": 4,
 "nbformat_minor": 4
}
